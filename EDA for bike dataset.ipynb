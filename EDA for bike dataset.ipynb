{
  "nbformat": 4,
  "nbformat_minor": 0,
  "metadata": {
    "colab": {
      "provenance": []
    },
    "kernelspec": {
      "name": "python3",
      "display_name": "Python 3"
    },
    "language_info": {
      "name": "python"
    }
  },
  "cells": [
    {
      "cell_type": "code",
      "execution_count": null,
      "metadata": {
        "id": "efsiD2g2ON51"
      },
      "outputs": [],
      "source": [
        "import pandas as pd\n",
        "import seaborn as sns\n",
        "import numpy as np\n",
        "import matplotlib.pyplot as plt \n",
        "from random import choice\n",
        "from datetime import *\n",
        "from sklearn.cluster import KMeans\n",
        "from sklearn.model_selection import train_test_split\n",
        "from sklearn import preprocessing\n"
      ]
    },
    {
      "cell_type": "code",
      "source": [
        "from matplotlib.pyplot import figure\n",
        "\n",
        "figure(figsize=(8, 6), dpi=80)"
      ],
      "metadata": {
        "colab": {
          "base_uri": "https://localhost:8080/",
          "height": 52
        },
        "id": "nIEJVTO8WGYP",
        "outputId": "72b690e9-e1ac-44c5-cbe7-acad3c4e8620"
      },
      "execution_count": null,
      "outputs": [
        {
          "output_type": "execute_result",
          "data": {
            "text/plain": [
              "<Figure size 640x480 with 0 Axes>"
            ]
          },
          "metadata": {},
          "execution_count": 116
        },
        {
          "output_type": "display_data",
          "data": {
            "text/plain": [
              "<Figure size 640x480 with 0 Axes>"
            ]
          },
          "metadata": {}
        }
      ]
    },
    {
      "cell_type": "code",
      "source": [
        "bike = pd.read_csv(\"/content/drive/MyDrive/bike_trips.csv\")"
      ],
      "metadata": {
        "id": "QdDr2NCYOiGy"
      },
      "execution_count": null,
      "outputs": []
    },
    {
      "cell_type": "markdown",
      "source": [
        "#Exploring the Data "
      ],
      "metadata": {
        "id": "IilLOjU07DAP"
      }
    },
    {
      "cell_type": "markdown",
      "source": [
        "###Displaying the first 5 rows in the dataset"
      ],
      "metadata": {
        "id": "ZebfswpYkTLT"
      }
    },
    {
      "cell_type": "code",
      "source": [
        "bike.head()"
      ],
      "metadata": {
        "colab": {
          "base_uri": "https://localhost:8080/",
          "height": 392
        },
        "id": "-UYSxhs2OnTl",
        "outputId": "87cadf1b-af59-4d2d-83e3-faf9dace2a28"
      },
      "execution_count": null,
      "outputs": [
        {
          "output_type": "execute_result",
          "data": {
            "text/plain": [
              "   duration_sec                start_time                  end_time  \\\n",
              "0         52185  2019-02-28 17:32:10.1450  2019-03-01 08:01:55.9750   \n",
              "1         42521  2019-02-28 18:53:21.7890  2019-03-01 06:42:03.0560   \n",
              "2         61854  2019-02-28 12:13:13.2180  2019-03-01 05:24:08.1460   \n",
              "3         36490  2019-02-28 17:54:26.0100  2019-03-01 04:02:36.8420   \n",
              "4          1585  2019-02-28 23:54:18.5490  2019-03-01 00:20:44.0740   \n",
              "\n",
              "   start_station_id                                start_station_name  \\\n",
              "0              21.0  Montgomery St BART Station (Market St at 2nd St)   \n",
              "1              23.0                     The Embarcadero at Steuart St   \n",
              "2              86.0                           Market St at Dolores St   \n",
              "3             375.0                           Grove St at Masonic Ave   \n",
              "4               7.0                               Frank H Ogawa Plaza   \n",
              "\n",
              "   start_station_latitude  start_station_longitude  end_station_id  \\\n",
              "0               37.789625              -122.400811            13.0   \n",
              "1               37.791464              -122.391034            81.0   \n",
              "2               37.769305              -122.426826             3.0   \n",
              "3               37.774836              -122.446546            70.0   \n",
              "4               37.804562              -122.271738           222.0   \n",
              "\n",
              "                               end_station_name  end_station_latitude  \\\n",
              "0                Commercial St at Montgomery St             37.794231   \n",
              "1                            Berry St at 4th St             37.775880   \n",
              "2  Powell St BART Station (Market St at 4th St)             37.786375   \n",
              "3                        Central Ave at Fell St             37.773311   \n",
              "4                         10th Ave at E 15th St             37.792714   \n",
              "\n",
              "   end_station_longitude  bike_id   user_type  member_birth_year  \\\n",
              "0            -122.402923     4902    Customer             1984.0   \n",
              "1            -122.393170     2535    Customer                NaN   \n",
              "2            -122.404904     5905    Customer             1972.0   \n",
              "3            -122.444293     6638  Subscriber             1989.0   \n",
              "4            -122.248780     4898  Subscriber             1974.0   \n",
              "\n",
              "  member_gender bike_share_for_all_trip  \n",
              "0          Male                      No  \n",
              "1           NaN                      No  \n",
              "2          Male                      No  \n",
              "3         Other                      No  \n",
              "4          Male                     Yes  "
            ],
            "text/html": [
              "\n",
              "  <div id=\"df-c9717777-00d1-4960-9387-7b019b182a64\">\n",
              "    <div class=\"colab-df-container\">\n",
              "      <div>\n",
              "<style scoped>\n",
              "    .dataframe tbody tr th:only-of-type {\n",
              "        vertical-align: middle;\n",
              "    }\n",
              "\n",
              "    .dataframe tbody tr th {\n",
              "        vertical-align: top;\n",
              "    }\n",
              "\n",
              "    .dataframe thead th {\n",
              "        text-align: right;\n",
              "    }\n",
              "</style>\n",
              "<table border=\"1\" class=\"dataframe\">\n",
              "  <thead>\n",
              "    <tr style=\"text-align: right;\">\n",
              "      <th></th>\n",
              "      <th>duration_sec</th>\n",
              "      <th>start_time</th>\n",
              "      <th>end_time</th>\n",
              "      <th>start_station_id</th>\n",
              "      <th>start_station_name</th>\n",
              "      <th>start_station_latitude</th>\n",
              "      <th>start_station_longitude</th>\n",
              "      <th>end_station_id</th>\n",
              "      <th>end_station_name</th>\n",
              "      <th>end_station_latitude</th>\n",
              "      <th>end_station_longitude</th>\n",
              "      <th>bike_id</th>\n",
              "      <th>user_type</th>\n",
              "      <th>member_birth_year</th>\n",
              "      <th>member_gender</th>\n",
              "      <th>bike_share_for_all_trip</th>\n",
              "    </tr>\n",
              "  </thead>\n",
              "  <tbody>\n",
              "    <tr>\n",
              "      <th>0</th>\n",
              "      <td>52185</td>\n",
              "      <td>2019-02-28 17:32:10.1450</td>\n",
              "      <td>2019-03-01 08:01:55.9750</td>\n",
              "      <td>21.0</td>\n",
              "      <td>Montgomery St BART Station (Market St at 2nd St)</td>\n",
              "      <td>37.789625</td>\n",
              "      <td>-122.400811</td>\n",
              "      <td>13.0</td>\n",
              "      <td>Commercial St at Montgomery St</td>\n",
              "      <td>37.794231</td>\n",
              "      <td>-122.402923</td>\n",
              "      <td>4902</td>\n",
              "      <td>Customer</td>\n",
              "      <td>1984.0</td>\n",
              "      <td>Male</td>\n",
              "      <td>No</td>\n",
              "    </tr>\n",
              "    <tr>\n",
              "      <th>1</th>\n",
              "      <td>42521</td>\n",
              "      <td>2019-02-28 18:53:21.7890</td>\n",
              "      <td>2019-03-01 06:42:03.0560</td>\n",
              "      <td>23.0</td>\n",
              "      <td>The Embarcadero at Steuart St</td>\n",
              "      <td>37.791464</td>\n",
              "      <td>-122.391034</td>\n",
              "      <td>81.0</td>\n",
              "      <td>Berry St at 4th St</td>\n",
              "      <td>37.775880</td>\n",
              "      <td>-122.393170</td>\n",
              "      <td>2535</td>\n",
              "      <td>Customer</td>\n",
              "      <td>NaN</td>\n",
              "      <td>NaN</td>\n",
              "      <td>No</td>\n",
              "    </tr>\n",
              "    <tr>\n",
              "      <th>2</th>\n",
              "      <td>61854</td>\n",
              "      <td>2019-02-28 12:13:13.2180</td>\n",
              "      <td>2019-03-01 05:24:08.1460</td>\n",
              "      <td>86.0</td>\n",
              "      <td>Market St at Dolores St</td>\n",
              "      <td>37.769305</td>\n",
              "      <td>-122.426826</td>\n",
              "      <td>3.0</td>\n",
              "      <td>Powell St BART Station (Market St at 4th St)</td>\n",
              "      <td>37.786375</td>\n",
              "      <td>-122.404904</td>\n",
              "      <td>5905</td>\n",
              "      <td>Customer</td>\n",
              "      <td>1972.0</td>\n",
              "      <td>Male</td>\n",
              "      <td>No</td>\n",
              "    </tr>\n",
              "    <tr>\n",
              "      <th>3</th>\n",
              "      <td>36490</td>\n",
              "      <td>2019-02-28 17:54:26.0100</td>\n",
              "      <td>2019-03-01 04:02:36.8420</td>\n",
              "      <td>375.0</td>\n",
              "      <td>Grove St at Masonic Ave</td>\n",
              "      <td>37.774836</td>\n",
              "      <td>-122.446546</td>\n",
              "      <td>70.0</td>\n",
              "      <td>Central Ave at Fell St</td>\n",
              "      <td>37.773311</td>\n",
              "      <td>-122.444293</td>\n",
              "      <td>6638</td>\n",
              "      <td>Subscriber</td>\n",
              "      <td>1989.0</td>\n",
              "      <td>Other</td>\n",
              "      <td>No</td>\n",
              "    </tr>\n",
              "    <tr>\n",
              "      <th>4</th>\n",
              "      <td>1585</td>\n",
              "      <td>2019-02-28 23:54:18.5490</td>\n",
              "      <td>2019-03-01 00:20:44.0740</td>\n",
              "      <td>7.0</td>\n",
              "      <td>Frank H Ogawa Plaza</td>\n",
              "      <td>37.804562</td>\n",
              "      <td>-122.271738</td>\n",
              "      <td>222.0</td>\n",
              "      <td>10th Ave at E 15th St</td>\n",
              "      <td>37.792714</td>\n",
              "      <td>-122.248780</td>\n",
              "      <td>4898</td>\n",
              "      <td>Subscriber</td>\n",
              "      <td>1974.0</td>\n",
              "      <td>Male</td>\n",
              "      <td>Yes</td>\n",
              "    </tr>\n",
              "  </tbody>\n",
              "</table>\n",
              "</div>\n",
              "      <button class=\"colab-df-convert\" onclick=\"convertToInteractive('df-c9717777-00d1-4960-9387-7b019b182a64')\"\n",
              "              title=\"Convert this dataframe to an interactive table.\"\n",
              "              style=\"display:none;\">\n",
              "        \n",
              "  <svg xmlns=\"http://www.w3.org/2000/svg\" height=\"24px\"viewBox=\"0 0 24 24\"\n",
              "       width=\"24px\">\n",
              "    <path d=\"M0 0h24v24H0V0z\" fill=\"none\"/>\n",
              "    <path d=\"M18.56 5.44l.94 2.06.94-2.06 2.06-.94-2.06-.94-.94-2.06-.94 2.06-2.06.94zm-11 1L8.5 8.5l.94-2.06 2.06-.94-2.06-.94L8.5 2.5l-.94 2.06-2.06.94zm10 10l.94 2.06.94-2.06 2.06-.94-2.06-.94-.94-2.06-.94 2.06-2.06.94z\"/><path d=\"M17.41 7.96l-1.37-1.37c-.4-.4-.92-.59-1.43-.59-.52 0-1.04.2-1.43.59L10.3 9.45l-7.72 7.72c-.78.78-.78 2.05 0 2.83L4 21.41c.39.39.9.59 1.41.59.51 0 1.02-.2 1.41-.59l7.78-7.78 2.81-2.81c.8-.78.8-2.07 0-2.86zM5.41 20L4 18.59l7.72-7.72 1.47 1.35L5.41 20z\"/>\n",
              "  </svg>\n",
              "      </button>\n",
              "      \n",
              "  <style>\n",
              "    .colab-df-container {\n",
              "      display:flex;\n",
              "      flex-wrap:wrap;\n",
              "      gap: 12px;\n",
              "    }\n",
              "\n",
              "    .colab-df-convert {\n",
              "      background-color: #E8F0FE;\n",
              "      border: none;\n",
              "      border-radius: 50%;\n",
              "      cursor: pointer;\n",
              "      display: none;\n",
              "      fill: #1967D2;\n",
              "      height: 32px;\n",
              "      padding: 0 0 0 0;\n",
              "      width: 32px;\n",
              "    }\n",
              "\n",
              "    .colab-df-convert:hover {\n",
              "      background-color: #E2EBFA;\n",
              "      box-shadow: 0px 1px 2px rgba(60, 64, 67, 0.3), 0px 1px 3px 1px rgba(60, 64, 67, 0.15);\n",
              "      fill: #174EA6;\n",
              "    }\n",
              "\n",
              "    [theme=dark] .colab-df-convert {\n",
              "      background-color: #3B4455;\n",
              "      fill: #D2E3FC;\n",
              "    }\n",
              "\n",
              "    [theme=dark] .colab-df-convert:hover {\n",
              "      background-color: #434B5C;\n",
              "      box-shadow: 0px 1px 3px 1px rgba(0, 0, 0, 0.15);\n",
              "      filter: drop-shadow(0px 1px 2px rgba(0, 0, 0, 0.3));\n",
              "      fill: #FFFFFF;\n",
              "    }\n",
              "  </style>\n",
              "\n",
              "      <script>\n",
              "        const buttonEl =\n",
              "          document.querySelector('#df-c9717777-00d1-4960-9387-7b019b182a64 button.colab-df-convert');\n",
              "        buttonEl.style.display =\n",
              "          google.colab.kernel.accessAllowed ? 'block' : 'none';\n",
              "\n",
              "        async function convertToInteractive(key) {\n",
              "          const element = document.querySelector('#df-c9717777-00d1-4960-9387-7b019b182a64');\n",
              "          const dataTable =\n",
              "            await google.colab.kernel.invokeFunction('convertToInteractive',\n",
              "                                                     [key], {});\n",
              "          if (!dataTable) return;\n",
              "\n",
              "          const docLinkHtml = 'Like what you see? Visit the ' +\n",
              "            '<a target=\"_blank\" href=https://colab.research.google.com/notebooks/data_table.ipynb>data table notebook</a>'\n",
              "            + ' to learn more about interactive tables.';\n",
              "          element.innerHTML = '';\n",
              "          dataTable['output_type'] = 'display_data';\n",
              "          await google.colab.output.renderOutput(dataTable, element);\n",
              "          const docLink = document.createElement('div');\n",
              "          docLink.innerHTML = docLinkHtml;\n",
              "          element.appendChild(docLink);\n",
              "        }\n",
              "      </script>\n",
              "    </div>\n",
              "  </div>\n",
              "  "
            ]
          },
          "metadata": {},
          "execution_count": 118
        }
      ]
    },
    {
      "cell_type": "code",
      "source": [
        "bike_orgi = bike.copy()"
      ],
      "metadata": {
        "id": "PU7BxthRVylp"
      },
      "execution_count": null,
      "outputs": []
    },
    {
      "cell_type": "markdown",
      "source": [
        "###Summary Statistics"
      ],
      "metadata": {
        "id": "GDy5pNQQkg2q"
      }
    },
    {
      "cell_type": "code",
      "source": [
        "bike.describe()"
      ],
      "metadata": {
        "colab": {
          "base_uri": "https://localhost:8080/",
          "height": 364
        },
        "id": "7oDJ91F0O4ob",
        "outputId": "88f401ea-5a35-4e00-e4f4-d599b9d0612e"
      },
      "execution_count": null,
      "outputs": [
        {
          "output_type": "execute_result",
          "data": {
            "text/plain": [
              "        duration_sec  start_station_id  start_station_latitude  \\\n",
              "count  183412.000000     183215.000000           183412.000000   \n",
              "mean      726.078435        138.590427               37.771223   \n",
              "std      1794.389780        111.778864                0.099581   \n",
              "min        61.000000          3.000000               37.317298   \n",
              "25%       325.000000         47.000000               37.770083   \n",
              "50%       514.000000        104.000000               37.780760   \n",
              "75%       796.000000        239.000000               37.797280   \n",
              "max     85444.000000        398.000000               37.880222   \n",
              "\n",
              "       start_station_longitude  end_station_id  end_station_latitude  \\\n",
              "count            183412.000000   183215.000000         183412.000000   \n",
              "mean               -122.352664      136.249123             37.771427   \n",
              "std                   0.117097      111.515131              0.099490   \n",
              "min                -122.453704        3.000000             37.317298   \n",
              "25%                -122.412408       44.000000             37.770407   \n",
              "50%                -122.398285      100.000000             37.781010   \n",
              "75%                -122.286533      235.000000             37.797320   \n",
              "max                -121.874119      398.000000             37.880222   \n",
              "\n",
              "       end_station_longitude        bike_id  member_birth_year  \n",
              "count          183412.000000  183412.000000      175147.000000  \n",
              "mean             -122.352250    4472.906375        1984.806437  \n",
              "std                 0.116673    1664.383394          10.116689  \n",
              "min              -122.453704      11.000000        1878.000000  \n",
              "25%              -122.411726    3777.000000        1980.000000  \n",
              "50%              -122.398279    4958.000000        1987.000000  \n",
              "75%              -122.288045    5502.000000        1992.000000  \n",
              "max              -121.874119    6645.000000        2001.000000  "
            ],
            "text/html": [
              "\n",
              "  <div id=\"df-31aabd4c-ea07-4f30-bc0e-ba973a3b0b70\">\n",
              "    <div class=\"colab-df-container\">\n",
              "      <div>\n",
              "<style scoped>\n",
              "    .dataframe tbody tr th:only-of-type {\n",
              "        vertical-align: middle;\n",
              "    }\n",
              "\n",
              "    .dataframe tbody tr th {\n",
              "        vertical-align: top;\n",
              "    }\n",
              "\n",
              "    .dataframe thead th {\n",
              "        text-align: right;\n",
              "    }\n",
              "</style>\n",
              "<table border=\"1\" class=\"dataframe\">\n",
              "  <thead>\n",
              "    <tr style=\"text-align: right;\">\n",
              "      <th></th>\n",
              "      <th>duration_sec</th>\n",
              "      <th>start_station_id</th>\n",
              "      <th>start_station_latitude</th>\n",
              "      <th>start_station_longitude</th>\n",
              "      <th>end_station_id</th>\n",
              "      <th>end_station_latitude</th>\n",
              "      <th>end_station_longitude</th>\n",
              "      <th>bike_id</th>\n",
              "      <th>member_birth_year</th>\n",
              "    </tr>\n",
              "  </thead>\n",
              "  <tbody>\n",
              "    <tr>\n",
              "      <th>count</th>\n",
              "      <td>183412.000000</td>\n",
              "      <td>183215.000000</td>\n",
              "      <td>183412.000000</td>\n",
              "      <td>183412.000000</td>\n",
              "      <td>183215.000000</td>\n",
              "      <td>183412.000000</td>\n",
              "      <td>183412.000000</td>\n",
              "      <td>183412.000000</td>\n",
              "      <td>175147.000000</td>\n",
              "    </tr>\n",
              "    <tr>\n",
              "      <th>mean</th>\n",
              "      <td>726.078435</td>\n",
              "      <td>138.590427</td>\n",
              "      <td>37.771223</td>\n",
              "      <td>-122.352664</td>\n",
              "      <td>136.249123</td>\n",
              "      <td>37.771427</td>\n",
              "      <td>-122.352250</td>\n",
              "      <td>4472.906375</td>\n",
              "      <td>1984.806437</td>\n",
              "    </tr>\n",
              "    <tr>\n",
              "      <th>std</th>\n",
              "      <td>1794.389780</td>\n",
              "      <td>111.778864</td>\n",
              "      <td>0.099581</td>\n",
              "      <td>0.117097</td>\n",
              "      <td>111.515131</td>\n",
              "      <td>0.099490</td>\n",
              "      <td>0.116673</td>\n",
              "      <td>1664.383394</td>\n",
              "      <td>10.116689</td>\n",
              "    </tr>\n",
              "    <tr>\n",
              "      <th>min</th>\n",
              "      <td>61.000000</td>\n",
              "      <td>3.000000</td>\n",
              "      <td>37.317298</td>\n",
              "      <td>-122.453704</td>\n",
              "      <td>3.000000</td>\n",
              "      <td>37.317298</td>\n",
              "      <td>-122.453704</td>\n",
              "      <td>11.000000</td>\n",
              "      <td>1878.000000</td>\n",
              "    </tr>\n",
              "    <tr>\n",
              "      <th>25%</th>\n",
              "      <td>325.000000</td>\n",
              "      <td>47.000000</td>\n",
              "      <td>37.770083</td>\n",
              "      <td>-122.412408</td>\n",
              "      <td>44.000000</td>\n",
              "      <td>37.770407</td>\n",
              "      <td>-122.411726</td>\n",
              "      <td>3777.000000</td>\n",
              "      <td>1980.000000</td>\n",
              "    </tr>\n",
              "    <tr>\n",
              "      <th>50%</th>\n",
              "      <td>514.000000</td>\n",
              "      <td>104.000000</td>\n",
              "      <td>37.780760</td>\n",
              "      <td>-122.398285</td>\n",
              "      <td>100.000000</td>\n",
              "      <td>37.781010</td>\n",
              "      <td>-122.398279</td>\n",
              "      <td>4958.000000</td>\n",
              "      <td>1987.000000</td>\n",
              "    </tr>\n",
              "    <tr>\n",
              "      <th>75%</th>\n",
              "      <td>796.000000</td>\n",
              "      <td>239.000000</td>\n",
              "      <td>37.797280</td>\n",
              "      <td>-122.286533</td>\n",
              "      <td>235.000000</td>\n",
              "      <td>37.797320</td>\n",
              "      <td>-122.288045</td>\n",
              "      <td>5502.000000</td>\n",
              "      <td>1992.000000</td>\n",
              "    </tr>\n",
              "    <tr>\n",
              "      <th>max</th>\n",
              "      <td>85444.000000</td>\n",
              "      <td>398.000000</td>\n",
              "      <td>37.880222</td>\n",
              "      <td>-121.874119</td>\n",
              "      <td>398.000000</td>\n",
              "      <td>37.880222</td>\n",
              "      <td>-121.874119</td>\n",
              "      <td>6645.000000</td>\n",
              "      <td>2001.000000</td>\n",
              "    </tr>\n",
              "  </tbody>\n",
              "</table>\n",
              "</div>\n",
              "      <button class=\"colab-df-convert\" onclick=\"convertToInteractive('df-31aabd4c-ea07-4f30-bc0e-ba973a3b0b70')\"\n",
              "              title=\"Convert this dataframe to an interactive table.\"\n",
              "              style=\"display:none;\">\n",
              "        \n",
              "  <svg xmlns=\"http://www.w3.org/2000/svg\" height=\"24px\"viewBox=\"0 0 24 24\"\n",
              "       width=\"24px\">\n",
              "    <path d=\"M0 0h24v24H0V0z\" fill=\"none\"/>\n",
              "    <path d=\"M18.56 5.44l.94 2.06.94-2.06 2.06-.94-2.06-.94-.94-2.06-.94 2.06-2.06.94zm-11 1L8.5 8.5l.94-2.06 2.06-.94-2.06-.94L8.5 2.5l-.94 2.06-2.06.94zm10 10l.94 2.06.94-2.06 2.06-.94-2.06-.94-.94-2.06-.94 2.06-2.06.94z\"/><path d=\"M17.41 7.96l-1.37-1.37c-.4-.4-.92-.59-1.43-.59-.52 0-1.04.2-1.43.59L10.3 9.45l-7.72 7.72c-.78.78-.78 2.05 0 2.83L4 21.41c.39.39.9.59 1.41.59.51 0 1.02-.2 1.41-.59l7.78-7.78 2.81-2.81c.8-.78.8-2.07 0-2.86zM5.41 20L4 18.59l7.72-7.72 1.47 1.35L5.41 20z\"/>\n",
              "  </svg>\n",
              "      </button>\n",
              "      \n",
              "  <style>\n",
              "    .colab-df-container {\n",
              "      display:flex;\n",
              "      flex-wrap:wrap;\n",
              "      gap: 12px;\n",
              "    }\n",
              "\n",
              "    .colab-df-convert {\n",
              "      background-color: #E8F0FE;\n",
              "      border: none;\n",
              "      border-radius: 50%;\n",
              "      cursor: pointer;\n",
              "      display: none;\n",
              "      fill: #1967D2;\n",
              "      height: 32px;\n",
              "      padding: 0 0 0 0;\n",
              "      width: 32px;\n",
              "    }\n",
              "\n",
              "    .colab-df-convert:hover {\n",
              "      background-color: #E2EBFA;\n",
              "      box-shadow: 0px 1px 2px rgba(60, 64, 67, 0.3), 0px 1px 3px 1px rgba(60, 64, 67, 0.15);\n",
              "      fill: #174EA6;\n",
              "    }\n",
              "\n",
              "    [theme=dark] .colab-df-convert {\n",
              "      background-color: #3B4455;\n",
              "      fill: #D2E3FC;\n",
              "    }\n",
              "\n",
              "    [theme=dark] .colab-df-convert:hover {\n",
              "      background-color: #434B5C;\n",
              "      box-shadow: 0px 1px 3px 1px rgba(0, 0, 0, 0.15);\n",
              "      filter: drop-shadow(0px 1px 2px rgba(0, 0, 0, 0.3));\n",
              "      fill: #FFFFFF;\n",
              "    }\n",
              "  </style>\n",
              "\n",
              "      <script>\n",
              "        const buttonEl =\n",
              "          document.querySelector('#df-31aabd4c-ea07-4f30-bc0e-ba973a3b0b70 button.colab-df-convert');\n",
              "        buttonEl.style.display =\n",
              "          google.colab.kernel.accessAllowed ? 'block' : 'none';\n",
              "\n",
              "        async function convertToInteractive(key) {\n",
              "          const element = document.querySelector('#df-31aabd4c-ea07-4f30-bc0e-ba973a3b0b70');\n",
              "          const dataTable =\n",
              "            await google.colab.kernel.invokeFunction('convertToInteractive',\n",
              "                                                     [key], {});\n",
              "          if (!dataTable) return;\n",
              "\n",
              "          const docLinkHtml = 'Like what you see? Visit the ' +\n",
              "            '<a target=\"_blank\" href=https://colab.research.google.com/notebooks/data_table.ipynb>data table notebook</a>'\n",
              "            + ' to learn more about interactive tables.';\n",
              "          element.innerHTML = '';\n",
              "          dataTable['output_type'] = 'display_data';\n",
              "          await google.colab.output.renderOutput(dataTable, element);\n",
              "          const docLink = document.createElement('div');\n",
              "          docLink.innerHTML = docLinkHtml;\n",
              "          element.appendChild(docLink);\n",
              "        }\n",
              "      </script>\n",
              "    </div>\n",
              "  </div>\n",
              "  "
            ]
          },
          "metadata": {},
          "execution_count": 120
        }
      ]
    },
    {
      "cell_type": "markdown",
      "source": [
        "###Number of null values in each column"
      ],
      "metadata": {
        "id": "jS9nY-JtlO_6"
      }
    },
    {
      "cell_type": "code",
      "source": [
        "bike.isnull().sum()"
      ],
      "metadata": {
        "colab": {
          "base_uri": "https://localhost:8080/"
        },
        "id": "SP7nDlSXO87L",
        "outputId": "0d1d5ea9-3129-45a7-b9c3-8ce1cc391140"
      },
      "execution_count": null,
      "outputs": [
        {
          "output_type": "execute_result",
          "data": {
            "text/plain": [
              "duration_sec                  0\n",
              "start_time                    0\n",
              "end_time                      0\n",
              "start_station_id            197\n",
              "start_station_name          197\n",
              "start_station_latitude        0\n",
              "start_station_longitude       0\n",
              "end_station_id              197\n",
              "end_station_name            197\n",
              "end_station_latitude          0\n",
              "end_station_longitude         0\n",
              "bike_id                       0\n",
              "user_type                     0\n",
              "member_birth_year          8265\n",
              "member_gender              8265\n",
              "bike_share_for_all_trip       0\n",
              "dtype: int64"
            ]
          },
          "metadata": {},
          "execution_count": 121
        }
      ]
    },
    {
      "cell_type": "markdown",
      "source": [
        "###Number of duplicated rows in the dataset"
      ],
      "metadata": {
        "id": "4wKd1O4ilWxO"
      }
    },
    {
      "cell_type": "code",
      "source": [
        "bike.duplicated().sum() #No duplicated rows"
      ],
      "metadata": {
        "colab": {
          "base_uri": "https://localhost:8080/"
        },
        "id": "BSyD59VWPBW7",
        "outputId": "5479f054-f8bd-4caa-b137-fff6c9012335"
      },
      "execution_count": null,
      "outputs": [
        {
          "output_type": "execute_result",
          "data": {
            "text/plain": [
              "0"
            ]
          },
          "metadata": {},
          "execution_count": 122
        }
      ]
    },
    {
      "cell_type": "markdown",
      "source": [
        "###Exploring Datatypes and if there are null values"
      ],
      "metadata": {
        "id": "k-Xq8GhxktXt"
      }
    },
    {
      "cell_type": "code",
      "source": [
        "bike.info()"
      ],
      "metadata": {
        "colab": {
          "base_uri": "https://localhost:8080/"
        },
        "id": "Dft_5cidO64g",
        "outputId": "816c08de-3332-4386-9164-a7676974c136"
      },
      "execution_count": null,
      "outputs": [
        {
          "output_type": "stream",
          "name": "stdout",
          "text": [
            "<class 'pandas.core.frame.DataFrame'>\n",
            "RangeIndex: 183412 entries, 0 to 183411\n",
            "Data columns (total 16 columns):\n",
            " #   Column                   Non-Null Count   Dtype  \n",
            "---  ------                   --------------   -----  \n",
            " 0   duration_sec             183412 non-null  int64  \n",
            " 1   start_time               183412 non-null  object \n",
            " 2   end_time                 183412 non-null  object \n",
            " 3   start_station_id         183215 non-null  float64\n",
            " 4   start_station_name       183215 non-null  object \n",
            " 5   start_station_latitude   183412 non-null  float64\n",
            " 6   start_station_longitude  183412 non-null  float64\n",
            " 7   end_station_id           183215 non-null  float64\n",
            " 8   end_station_name         183215 non-null  object \n",
            " 9   end_station_latitude     183412 non-null  float64\n",
            " 10  end_station_longitude    183412 non-null  float64\n",
            " 11  bike_id                  183412 non-null  int64  \n",
            " 12  user_type                183412 non-null  object \n",
            " 13  member_birth_year        175147 non-null  float64\n",
            " 14  member_gender            175147 non-null  object \n",
            " 15  bike_share_for_all_trip  183412 non-null  object \n",
            "dtypes: float64(7), int64(2), object(7)\n",
            "memory usage: 22.4+ MB\n"
          ]
        }
      ]
    },
    {
      "cell_type": "markdown",
      "source": [
        "##Changing datatypes and renaming columns\n",
        "#### We have columns with wrong datatype, so we are going to change it to the corret datatype. <br>\n",
        "*   start_time. object ➜ datetime\n",
        "\n",
        "*   end_time. object ➜ datetime\n",
        "\n",
        "*   user_type. object ➜ category\n",
        "\n",
        "*   member_birth_year. float64 ➜ datetime\n",
        "\n",
        "*   bike_share_for_all_trip. object ➜ category\n",
        "\n",
        "\n",
        "####Renaming columns\n",
        "*   member_birth_year object ➜ birth_year\n",
        "\n",
        "*   member_gender ➜ gender\n",
        "\n",
        "###For start_time, end_time, and member_birth_year columns should be datetime, because we are dealing with date, and time. \n",
        "### user_type, and bike_share_for_all_trip Changing theses columns to object datatype is not a high priority"
      ],
      "metadata": {
        "id": "TQVFfCMz1iB6"
      }
    },
    {
      "cell_type": "code",
      "source": [
        "bike['start_time'] = pd.to_datetime(bike['start_time'])\n",
        "bike['end_time'] = pd.to_datetime(bike['end_time'])\n",
        "# bike['birth_year'] = pd.to_datetime(bike['member_birth_year'])\n",
        "bike['user_type'] = bike['user_type'].astype('category')\n",
        "bike['gender'] = bike['member_gender'].astype('object')\n",
        "bike['bike_share_for_all_trip'] = bike['bike_share_for_all_trip'].astype('category')\n",
        "#Getting the age from birthday\n",
        "bike['age'] = 2022 - bike['member_birth_year']"
      ],
      "metadata": {
        "id": "R1KbKdXz1hKe"
      },
      "execution_count": null,
      "outputs": []
    },
    {
      "cell_type": "code",
      "source": [
        "bike['age'] = bike['age'].fillna(bike['age'].mean())\n",
        "bike['gender'] = bike['gender'].fillna('Other')\n",
        "bike['start_station_name'] = bike['start_station_name'].fillna(bike['start_station_name'].mode())\n",
        "bike['end_station_name'] = bike['end_station_name'].fillna(bike['end_station_name'].mode())"
      ],
      "metadata": {
        "id": "fG2bM4o5qzF5"
      },
      "execution_count": null,
      "outputs": []
    },
    {
      "cell_type": "markdown",
      "source": [
        "##Exctracting new Columns\n"
      ],
      "metadata": {
        "id": "84iIKERnkn-r"
      }
    },
    {
      "cell_type": "code",
      "source": [
        "#Extracting 4 new columns for start time\n",
        "bike['start_time_min'] = bike['start_time'].dt.minute\n",
        "bike['start_time_hour'] = bike['start_time'].dt.hour\n",
        "bike['start_time_day'] = bike['start_time'].dt.day \n",
        "\n",
        "\n",
        "#Extracting new column for end time\n",
        "bike['end_time_hour'] = bike['end_time'].dt.hour"
      ],
      "metadata": {
        "id": "yCaJZaV8dbak"
      },
      "execution_count": null,
      "outputs": []
    },
    {
      "cell_type": "code",
      "source": [
        "bike.describe()"
      ],
      "metadata": {
        "colab": {
          "base_uri": "https://localhost:8080/",
          "height": 364
        },
        "id": "ZOzodb2VeLG7",
        "outputId": "302b9752-cda3-4af4-a9c2-ed6f981f59c3"
      },
      "execution_count": null,
      "outputs": [
        {
          "output_type": "execute_result",
          "data": {
            "text/plain": [
              "        duration_sec  start_station_id  start_station_latitude  \\\n",
              "count  183412.000000     183215.000000           183412.000000   \n",
              "mean      726.078435        138.590427               37.771223   \n",
              "std      1794.389780        111.778864                0.099581   \n",
              "min        61.000000          3.000000               37.317298   \n",
              "25%       325.000000         47.000000               37.770083   \n",
              "50%       514.000000        104.000000               37.780760   \n",
              "75%       796.000000        239.000000               37.797280   \n",
              "max     85444.000000        398.000000               37.880222   \n",
              "\n",
              "       start_station_longitude  end_station_id  end_station_latitude  \\\n",
              "count            183412.000000   183215.000000         183412.000000   \n",
              "mean               -122.352664      136.249123             37.771427   \n",
              "std                   0.117097      111.515131              0.099490   \n",
              "min                -122.453704        3.000000             37.317298   \n",
              "25%                -122.412408       44.000000             37.770407   \n",
              "50%                -122.398285      100.000000             37.781010   \n",
              "75%                -122.286533      235.000000             37.797320   \n",
              "max                -121.874119      398.000000             37.880222   \n",
              "\n",
              "       end_station_longitude        bike_id  member_birth_year            age  \\\n",
              "count          183412.000000  183412.000000      175147.000000  175147.000000   \n",
              "mean             -122.352250    4472.906375        1984.806437      37.193563   \n",
              "std                 0.116673    1664.383394          10.116689      10.116689   \n",
              "min              -122.453704      11.000000        1878.000000      21.000000   \n",
              "25%              -122.411726    3777.000000        1980.000000      30.000000   \n",
              "50%              -122.398279    4958.000000        1987.000000      35.000000   \n",
              "75%              -122.288045    5502.000000        1992.000000      42.000000   \n",
              "max              -121.874119    6645.000000        2001.000000     144.000000   \n",
              "\n",
              "       start_time_min  start_time_hour  start_time_day  end_time_hour  \n",
              "count   183412.000000    183412.000000   183412.000000  183412.000000  \n",
              "mean        29.451317        13.458421       15.298977      13.614769  \n",
              "std         17.368447         4.724978        8.028187       4.739638  \n",
              "min          0.000000         0.000000        1.000000       0.000000  \n",
              "25%         14.000000         9.000000        8.000000       9.000000  \n",
              "50%         29.000000        14.000000       15.000000      14.000000  \n",
              "75%         45.000000        17.000000       22.000000      18.000000  \n",
              "max         59.000000        23.000000       28.000000      23.000000  "
            ],
            "text/html": [
              "\n",
              "  <div id=\"df-12f52fa6-22ed-4d0e-ae1c-6f3a76e61ec1\">\n",
              "    <div class=\"colab-df-container\">\n",
              "      <div>\n",
              "<style scoped>\n",
              "    .dataframe tbody tr th:only-of-type {\n",
              "        vertical-align: middle;\n",
              "    }\n",
              "\n",
              "    .dataframe tbody tr th {\n",
              "        vertical-align: top;\n",
              "    }\n",
              "\n",
              "    .dataframe thead th {\n",
              "        text-align: right;\n",
              "    }\n",
              "</style>\n",
              "<table border=\"1\" class=\"dataframe\">\n",
              "  <thead>\n",
              "    <tr style=\"text-align: right;\">\n",
              "      <th></th>\n",
              "      <th>duration_sec</th>\n",
              "      <th>start_station_id</th>\n",
              "      <th>start_station_latitude</th>\n",
              "      <th>start_station_longitude</th>\n",
              "      <th>end_station_id</th>\n",
              "      <th>end_station_latitude</th>\n",
              "      <th>end_station_longitude</th>\n",
              "      <th>bike_id</th>\n",
              "      <th>member_birth_year</th>\n",
              "      <th>age</th>\n",
              "      <th>start_time_min</th>\n",
              "      <th>start_time_hour</th>\n",
              "      <th>start_time_day</th>\n",
              "      <th>end_time_hour</th>\n",
              "    </tr>\n",
              "  </thead>\n",
              "  <tbody>\n",
              "    <tr>\n",
              "      <th>count</th>\n",
              "      <td>183412.000000</td>\n",
              "      <td>183215.000000</td>\n",
              "      <td>183412.000000</td>\n",
              "      <td>183412.000000</td>\n",
              "      <td>183215.000000</td>\n",
              "      <td>183412.000000</td>\n",
              "      <td>183412.000000</td>\n",
              "      <td>183412.000000</td>\n",
              "      <td>175147.000000</td>\n",
              "      <td>175147.000000</td>\n",
              "      <td>183412.000000</td>\n",
              "      <td>183412.000000</td>\n",
              "      <td>183412.000000</td>\n",
              "      <td>183412.000000</td>\n",
              "    </tr>\n",
              "    <tr>\n",
              "      <th>mean</th>\n",
              "      <td>726.078435</td>\n",
              "      <td>138.590427</td>\n",
              "      <td>37.771223</td>\n",
              "      <td>-122.352664</td>\n",
              "      <td>136.249123</td>\n",
              "      <td>37.771427</td>\n",
              "      <td>-122.352250</td>\n",
              "      <td>4472.906375</td>\n",
              "      <td>1984.806437</td>\n",
              "      <td>37.193563</td>\n",
              "      <td>29.451317</td>\n",
              "      <td>13.458421</td>\n",
              "      <td>15.298977</td>\n",
              "      <td>13.614769</td>\n",
              "    </tr>\n",
              "    <tr>\n",
              "      <th>std</th>\n",
              "      <td>1794.389780</td>\n",
              "      <td>111.778864</td>\n",
              "      <td>0.099581</td>\n",
              "      <td>0.117097</td>\n",
              "      <td>111.515131</td>\n",
              "      <td>0.099490</td>\n",
              "      <td>0.116673</td>\n",
              "      <td>1664.383394</td>\n",
              "      <td>10.116689</td>\n",
              "      <td>10.116689</td>\n",
              "      <td>17.368447</td>\n",
              "      <td>4.724978</td>\n",
              "      <td>8.028187</td>\n",
              "      <td>4.739638</td>\n",
              "    </tr>\n",
              "    <tr>\n",
              "      <th>min</th>\n",
              "      <td>61.000000</td>\n",
              "      <td>3.000000</td>\n",
              "      <td>37.317298</td>\n",
              "      <td>-122.453704</td>\n",
              "      <td>3.000000</td>\n",
              "      <td>37.317298</td>\n",
              "      <td>-122.453704</td>\n",
              "      <td>11.000000</td>\n",
              "      <td>1878.000000</td>\n",
              "      <td>21.000000</td>\n",
              "      <td>0.000000</td>\n",
              "      <td>0.000000</td>\n",
              "      <td>1.000000</td>\n",
              "      <td>0.000000</td>\n",
              "    </tr>\n",
              "    <tr>\n",
              "      <th>25%</th>\n",
              "      <td>325.000000</td>\n",
              "      <td>47.000000</td>\n",
              "      <td>37.770083</td>\n",
              "      <td>-122.412408</td>\n",
              "      <td>44.000000</td>\n",
              "      <td>37.770407</td>\n",
              "      <td>-122.411726</td>\n",
              "      <td>3777.000000</td>\n",
              "      <td>1980.000000</td>\n",
              "      <td>30.000000</td>\n",
              "      <td>14.000000</td>\n",
              "      <td>9.000000</td>\n",
              "      <td>8.000000</td>\n",
              "      <td>9.000000</td>\n",
              "    </tr>\n",
              "    <tr>\n",
              "      <th>50%</th>\n",
              "      <td>514.000000</td>\n",
              "      <td>104.000000</td>\n",
              "      <td>37.780760</td>\n",
              "      <td>-122.398285</td>\n",
              "      <td>100.000000</td>\n",
              "      <td>37.781010</td>\n",
              "      <td>-122.398279</td>\n",
              "      <td>4958.000000</td>\n",
              "      <td>1987.000000</td>\n",
              "      <td>35.000000</td>\n",
              "      <td>29.000000</td>\n",
              "      <td>14.000000</td>\n",
              "      <td>15.000000</td>\n",
              "      <td>14.000000</td>\n",
              "    </tr>\n",
              "    <tr>\n",
              "      <th>75%</th>\n",
              "      <td>796.000000</td>\n",
              "      <td>239.000000</td>\n",
              "      <td>37.797280</td>\n",
              "      <td>-122.286533</td>\n",
              "      <td>235.000000</td>\n",
              "      <td>37.797320</td>\n",
              "      <td>-122.288045</td>\n",
              "      <td>5502.000000</td>\n",
              "      <td>1992.000000</td>\n",
              "      <td>42.000000</td>\n",
              "      <td>45.000000</td>\n",
              "      <td>17.000000</td>\n",
              "      <td>22.000000</td>\n",
              "      <td>18.000000</td>\n",
              "    </tr>\n",
              "    <tr>\n",
              "      <th>max</th>\n",
              "      <td>85444.000000</td>\n",
              "      <td>398.000000</td>\n",
              "      <td>37.880222</td>\n",
              "      <td>-121.874119</td>\n",
              "      <td>398.000000</td>\n",
              "      <td>37.880222</td>\n",
              "      <td>-121.874119</td>\n",
              "      <td>6645.000000</td>\n",
              "      <td>2001.000000</td>\n",
              "      <td>144.000000</td>\n",
              "      <td>59.000000</td>\n",
              "      <td>23.000000</td>\n",
              "      <td>28.000000</td>\n",
              "      <td>23.000000</td>\n",
              "    </tr>\n",
              "  </tbody>\n",
              "</table>\n",
              "</div>\n",
              "      <button class=\"colab-df-convert\" onclick=\"convertToInteractive('df-12f52fa6-22ed-4d0e-ae1c-6f3a76e61ec1')\"\n",
              "              title=\"Convert this dataframe to an interactive table.\"\n",
              "              style=\"display:none;\">\n",
              "        \n",
              "  <svg xmlns=\"http://www.w3.org/2000/svg\" height=\"24px\"viewBox=\"0 0 24 24\"\n",
              "       width=\"24px\">\n",
              "    <path d=\"M0 0h24v24H0V0z\" fill=\"none\"/>\n",
              "    <path d=\"M18.56 5.44l.94 2.06.94-2.06 2.06-.94-2.06-.94-.94-2.06-.94 2.06-2.06.94zm-11 1L8.5 8.5l.94-2.06 2.06-.94-2.06-.94L8.5 2.5l-.94 2.06-2.06.94zm10 10l.94 2.06.94-2.06 2.06-.94-2.06-.94-.94-2.06-.94 2.06-2.06.94z\"/><path d=\"M17.41 7.96l-1.37-1.37c-.4-.4-.92-.59-1.43-.59-.52 0-1.04.2-1.43.59L10.3 9.45l-7.72 7.72c-.78.78-.78 2.05 0 2.83L4 21.41c.39.39.9.59 1.41.59.51 0 1.02-.2 1.41-.59l7.78-7.78 2.81-2.81c.8-.78.8-2.07 0-2.86zM5.41 20L4 18.59l7.72-7.72 1.47 1.35L5.41 20z\"/>\n",
              "  </svg>\n",
              "      </button>\n",
              "      \n",
              "  <style>\n",
              "    .colab-df-container {\n",
              "      display:flex;\n",
              "      flex-wrap:wrap;\n",
              "      gap: 12px;\n",
              "    }\n",
              "\n",
              "    .colab-df-convert {\n",
              "      background-color: #E8F0FE;\n",
              "      border: none;\n",
              "      border-radius: 50%;\n",
              "      cursor: pointer;\n",
              "      display: none;\n",
              "      fill: #1967D2;\n",
              "      height: 32px;\n",
              "      padding: 0 0 0 0;\n",
              "      width: 32px;\n",
              "    }\n",
              "\n",
              "    .colab-df-convert:hover {\n",
              "      background-color: #E2EBFA;\n",
              "      box-shadow: 0px 1px 2px rgba(60, 64, 67, 0.3), 0px 1px 3px 1px rgba(60, 64, 67, 0.15);\n",
              "      fill: #174EA6;\n",
              "    }\n",
              "\n",
              "    [theme=dark] .colab-df-convert {\n",
              "      background-color: #3B4455;\n",
              "      fill: #D2E3FC;\n",
              "    }\n",
              "\n",
              "    [theme=dark] .colab-df-convert:hover {\n",
              "      background-color: #434B5C;\n",
              "      box-shadow: 0px 1px 3px 1px rgba(0, 0, 0, 0.15);\n",
              "      filter: drop-shadow(0px 1px 2px rgba(0, 0, 0, 0.3));\n",
              "      fill: #FFFFFF;\n",
              "    }\n",
              "  </style>\n",
              "\n",
              "      <script>\n",
              "        const buttonEl =\n",
              "          document.querySelector('#df-12f52fa6-22ed-4d0e-ae1c-6f3a76e61ec1 button.colab-df-convert');\n",
              "        buttonEl.style.display =\n",
              "          google.colab.kernel.accessAllowed ? 'block' : 'none';\n",
              "\n",
              "        async function convertToInteractive(key) {\n",
              "          const element = document.querySelector('#df-12f52fa6-22ed-4d0e-ae1c-6f3a76e61ec1');\n",
              "          const dataTable =\n",
              "            await google.colab.kernel.invokeFunction('convertToInteractive',\n",
              "                                                     [key], {});\n",
              "          if (!dataTable) return;\n",
              "\n",
              "          const docLinkHtml = 'Like what you see? Visit the ' +\n",
              "            '<a target=\"_blank\" href=https://colab.research.google.com/notebooks/data_table.ipynb>data table notebook</a>'\n",
              "            + ' to learn more about interactive tables.';\n",
              "          element.innerHTML = '';\n",
              "          dataTable['output_type'] = 'display_data';\n",
              "          await google.colab.output.renderOutput(dataTable, element);\n",
              "          const docLink = document.createElement('div');\n",
              "          docLink.innerHTML = docLinkHtml;\n",
              "          element.appendChild(docLink);\n",
              "        }\n",
              "      </script>\n",
              "    </div>\n",
              "  </div>\n",
              "  "
            ]
          },
          "metadata": {},
          "execution_count": 127
        }
      ]
    },
    {
      "cell_type": "code",
      "source": [
        "bike.isnull().sum()"
      ],
      "metadata": {
        "colab": {
          "base_uri": "https://localhost:8080/"
        },
        "id": "p5-L6-7AqlZM",
        "outputId": "5d5673bc-f452-4e40-c7d3-6c1fb0cffb7b"
      },
      "execution_count": null,
      "outputs": [
        {
          "output_type": "execute_result",
          "data": {
            "text/plain": [
              "duration_sec                 0\n",
              "start_station_name         197\n",
              "end_station_name           197\n",
              "user_type                    0\n",
              "bike_share_for_all_trip      0\n",
              "gender                       0\n",
              "age                          0\n",
              "start_time_min               0\n",
              "start_time_hour              0\n",
              "start_time_day               0\n",
              "end_time_hour                0\n",
              "dtype: int64"
            ]
          },
          "metadata": {},
          "execution_count": 159
        }
      ]
    },
    {
      "cell_type": "markdown",
      "source": [
        "###Deleting unwatned columns and renaming some columns\n",
        "\n",
        "\n",
        "*   Deleting colunmns where it is not useful in understanding the data nor in building the Machine Learning Model\n",
        "\n",
        "\n"
      ],
      "metadata": {
        "id": "QJH9JkR0sgpz"
      }
    },
    {
      "cell_type": "code",
      "source": [
        "bike = bike.drop(['start_station_id', 'start_station_latitude', 'start_station_longitude',\n",
        "                  'end_station_id', 'end_station_latitude', 'end_station_longitude',\n",
        "                  'member_birth_year','member_gender', 'bike_id', 'start_time', 'end_time'\n",
        "                  ], axis=1)"
      ],
      "metadata": {
        "id": "ISGinwf5muEK"
      },
      "execution_count": null,
      "outputs": []
    },
    {
      "cell_type": "code",
      "source": [
        "bike.columns"
      ],
      "metadata": {
        "id": "BAbOo_B0RxI0",
        "colab": {
          "base_uri": "https://localhost:8080/"
        },
        "outputId": "53390be6-5ccf-4a4c-ac9b-c784d8e90fe5"
      },
      "execution_count": null,
      "outputs": [
        {
          "output_type": "execute_result",
          "data": {
            "text/plain": [
              "Index(['duration_sec', 'start_station_name', 'end_station_name', 'user_type',\n",
              "       'bike_share_for_all_trip', 'gender', 'age', 'start_time_min',\n",
              "       'start_time_hour', 'start_time_day', 'end_time_hour'],\n",
              "      dtype='object')"
            ]
          },
          "metadata": {},
          "execution_count": 129
        }
      ]
    },
    {
      "cell_type": "code",
      "source": [
        "bike.info()"
      ],
      "metadata": {
        "id": "F27IHIug0G57",
        "colab": {
          "base_uri": "https://localhost:8080/"
        },
        "outputId": "012b29d0-53f2-42ed-cdb9-5b0b8118fd1b"
      },
      "execution_count": null,
      "outputs": [
        {
          "output_type": "stream",
          "name": "stdout",
          "text": [
            "<class 'pandas.core.frame.DataFrame'>\n",
            "RangeIndex: 183412 entries, 0 to 183411\n",
            "Data columns (total 11 columns):\n",
            " #   Column                   Non-Null Count   Dtype   \n",
            "---  ------                   --------------   -----   \n",
            " 0   duration_sec             183412 non-null  int64   \n",
            " 1   start_station_name       183215 non-null  object  \n",
            " 2   end_station_name         183215 non-null  object  \n",
            " 3   user_type                183412 non-null  category\n",
            " 4   bike_share_for_all_trip  183412 non-null  category\n",
            " 5   gender                   175147 non-null  object  \n",
            " 6   age                      175147 non-null  float64 \n",
            " 7   start_time_min           183412 non-null  int64   \n",
            " 8   start_time_hour          183412 non-null  int64   \n",
            " 9   start_time_day           183412 non-null  int64   \n",
            " 10  end_time_hour            183412 non-null  int64   \n",
            "dtypes: category(2), float64(1), int64(5), object(3)\n",
            "memory usage: 12.9+ MB\n"
          ]
        }
      ]
    },
    {
      "cell_type": "markdown",
      "source": [
        "## STEP5: **Analysis Phase**\n",
        "In this phase, we will use tow methods to answer our questions, and these methods are:\n",
        "* **Exploratory Analysis**\n",
        "* **Visual Analysis** \n",
        "\n",
        "But first, we need to define our questions.\n",
        "\n",
        "> ## Questions\n",
        "1. How much is the daily bike usage?\n",
        "2. The daily usage of bikes based on User Type?\n",
        "3. The daily usage of bikes based on User Type and Member Gender?\n",
        "4. Most on demand hours\n",
        "5. Most on demand days\n",
        "6. The duration in hours based on user type and age\n",
        "7. How much is the bike share?\n",
        "8. What is the top 5 stations?\n",
        "9. Who uses the bike more, customers or subscribers?\n",
        "10. What is Most end time hour?\n",
        "\n",
        "\n",
        "**Now, Let’s Start Answering these questions**"
      ],
      "metadata": {
        "id": "jHwe8TF-RwXq"
      }
    },
    {
      "cell_type": "markdown",
      "source": [
        "> ### Method 1: **Exploratory Analysis**\n",
        "\n",
        "Popular functions used in this method:\n",
        "* **value_counts()**\n",
        "* **groupby()**\n",
        "* **pivot_table()**\n",
        "* **query()**\n",
        "* **Logical operators**"
      ],
      "metadata": {
        "id": "P3omwGz4BDYp"
      }
    },
    {
      "cell_type": "markdown",
      "source": [
        "> ### Method 2: **Visual Analysis** \n",
        "Important Charts for Visualisation:\n",
        "* **Histogram**\n",
        "* **Bar Chart**\n",
        "* **Pie Chart**\n",
        "* **Box Plot**\n",
        "* **Scatter Plot**\n",
        "* **Line Chart**"
      ],
      "metadata": {
        "id": "0kYDqGY4eMut"
      }
    },
    {
      "cell_type": "markdown",
      "source": [
        "## Types of Visual Analysis:\n",
        "> ### Univariate Exploration\n",
        "~ **Univariate analysis** involves analysis of one variable at a time"
      ],
      "metadata": {
        "id": "tZFcsx1uQOXu"
      }
    },
    {
      "cell_type": "code",
      "source": [
        "sns.set_theme(style=\"darkgrid\")"
      ],
      "metadata": {
        "id": "ACaBtxD-gjkk"
      },
      "execution_count": null,
      "outputs": []
    },
    {
      "cell_type": "markdown",
      "source": [
        "#### 1. First Question \n",
        "1. How much is the daily bike usage?"
      ],
      "metadata": {
        "id": "ftUERiqHX6hc"
      }
    },
    {
      "cell_type": "code",
      "source": [
        "# codes that help you to answer your question\n",
        "plt.figure(figsize=[10,5]) \n",
        "sns.countplot(bike['start_time_day']\n",
        ")"
      ],
      "metadata": {
        "id": "HhpVnRFhYBC5",
        "colab": {
          "base_uri": "https://localhost:8080/",
          "height": 437
        },
        "outputId": "85f26f01-59d1-454b-e994-c759fcd648f1"
      },
      "execution_count": null,
      "outputs": [
        {
          "output_type": "stream",
          "name": "stderr",
          "text": [
            "/usr/local/lib/python3.7/dist-packages/seaborn/_decorators.py:43: FutureWarning: Pass the following variable as a keyword arg: x. From version 0.12, the only valid positional argument will be `data`, and passing other arguments without an explicit keyword will result in an error or misinterpretation.\n",
            "  FutureWarning\n"
          ]
        },
        {
          "output_type": "execute_result",
          "data": {
            "text/plain": [
              "<matplotlib.axes._subplots.AxesSubplot at 0x7f20f1ddbe90>"
            ]
          },
          "metadata": {},
          "execution_count": 132
        },
        {
          "output_type": "display_data",
          "data": {
            "text/plain": [
              "<Figure size 720x360 with 1 Axes>"
            ],
            "image/png": "[encoded data removed]"
          },
          "metadata": {}
        }
      ]
    },
    {
      "cell_type": "markdown",
      "source": [
        "#### 2. Second Question \n",
        "The daily usage of bikes based on User Type?\n"
      ],
      "metadata": {
        "id": "5K2VkILeYyWw"
      }
    },
    {
      "cell_type": "code",
      "source": [
        "# codes that help you to answer your question\n",
        "plt.rcParams[\"figure.figsize\"] = [7.50, 4.50]\n",
        "plt.rcParams[\"figure.autolayout\"] = True\n",
        "bike_customer = bike[bike['user_type'] == 'Customer'].start_time_day\n",
        "x = np.arange(0, 29)\n",
        "plt.xticks(x)\n",
        "plt.margins(x=0, y=0)\n",
        "plt.suptitle('The Daily bike usage for customers')\n",
        "sns.histplot(bike_customer, bins=28, palette=sns.color_palette('Blues'))"
      ],
      "metadata": {
        "id": "BusSyzlEx19j",
        "colab": {
          "base_uri": "https://localhost:8080/",
          "height": 352
        },
        "outputId": "ff0d38f7-3ae0-4367-d977-2a8022ef43a2"
      },
      "execution_count": null,
      "outputs": [
        {
          "output_type": "execute_result",
          "data": {
            "text/plain": [
              "<matplotlib.axes._subplots.AxesSubplot at 0x7f20efd57850>"
            ]
          },
          "metadata": {},
          "execution_count": 133
        },
        {
          "output_type": "display_data",
          "data": {
            "text/plain": [
              "<Figure size 540x324 with 1 Axes>"
            ],
            "image/png": "[encoded data removed]"
          },
          "metadata": {}
        }
      ]
    },
    {
      "cell_type": "code",
      "source": [
        "# codes that help you to answer your question\n",
        "plt.rcParams[\"figure.figsize\"] = [7.50, 4.50]\n",
        "plt.rcParams[\"figure.autolayout\"] = True\n",
        "bike_customer = bike[bike['user_type'] == 'Subscriber'].start_time_day\n",
        "x = np.arange(0, 29)\n",
        "plt.xticks(x)\n",
        "plt.margins(x=0, y=0)\n",
        "plt.suptitle('The Daily bike usage for Subscriber')\n",
        "sns.histplot(bike_customer, bins=28, palette=sns.color_palette('Blues'))"
      ],
      "metadata": {
        "id": "YGdbljtHFYVf",
        "colab": {
          "base_uri": "https://localhost:8080/",
          "height": 352
        },
        "outputId": "bd578fec-4eba-4fda-8fb0-d979449fa846"
      },
      "execution_count": null,
      "outputs": [
        {
          "output_type": "execute_result",
          "data": {
            "text/plain": [
              "<matplotlib.axes._subplots.AxesSubplot at 0x7f20efe74550>"
            ]
          },
          "metadata": {},
          "execution_count": 134
        },
        {
          "output_type": "display_data",
          "data": {
            "text/plain": [
              "<Figure size 540x324 with 1 Axes>"
            ],
            "image/png": "[encoded data removed]"
          },
          "metadata": {}
        }
      ]
    },
    {
      "cell_type": "markdown",
      "source": [
        "#### 3. Third Question \n",
        "4. Most on demand hours\n"
      ],
      "metadata": {
        "id": "XLcodXSMWarM"
      }
    },
    {
      "cell_type": "code",
      "source": [
        "# codes that help you to answer your question \n",
        "plt.figure(figsize=[10,5]) \n",
        "sns.countplot(bike['start_time_hour'])"
      ],
      "metadata": {
        "id": "_C2oXzUyWvr6",
        "colab": {
          "base_uri": "https://localhost:8080/",
          "height": 437
        },
        "outputId": "ca15ae09-ff37-4399-e9d0-be3d57b1f552"
      },
      "execution_count": null,
      "outputs": [
        {
          "output_type": "stream",
          "name": "stderr",
          "text": [
            "/usr/local/lib/python3.7/dist-packages/seaborn/_decorators.py:43: FutureWarning: Pass the following variable as a keyword arg: x. From version 0.12, the only valid positional argument will be `data`, and passing other arguments without an explicit keyword will result in an error or misinterpretation.\n",
            "  FutureWarning\n"
          ]
        },
        {
          "output_type": "execute_result",
          "data": {
            "text/plain": [
              "<matplotlib.axes._subplots.AxesSubplot at 0x7f20ef230f50>"
            ]
          },
          "metadata": {},
          "execution_count": 192
        },
        {
          "output_type": "display_data",
          "data": {
            "text/plain": [
              "<Figure size 720x360 with 1 Axes>"
            ],
            "image/png": "[encoded data removed]"
          },
          "metadata": {}
        }
      ]
    },
    {
      "cell_type": "markdown",
      "source": [
        "#### 4. Fourth Question \n",
        "5. Most on demand days\n"
      ],
      "metadata": {
        "id": "q8w0M079ZZ3e"
      }
    },
    {
      "cell_type": "code",
      "source": [
        "# codes that help you to answer your question \n",
        "bike['start_time_day'].value_counts()[:10]"
      ],
      "metadata": {
        "id": "73CXPJ3XZhdb",
        "colab": {
          "base_uri": "https://localhost:8080/"
        },
        "outputId": "cde5b883-7e9b-4985-88f8-36d55bb46959"
      },
      "execution_count": null,
      "outputs": [
        {
          "output_type": "execute_result",
          "data": {
            "text/plain": [
              "28    9829\n",
              "20    9667\n",
              "21    9536\n",
              "19    9467\n",
              "7     9234\n",
              "22    9204\n",
              "6     9057\n",
              "11    8681\n",
              "5     8486\n",
              "12    8473\n",
              "Name: start_time_day, dtype: int64"
            ]
          },
          "metadata": {},
          "execution_count": 144
        }
      ]
    },
    {
      "cell_type": "markdown",
      "source": [
        "**Conclusion**: days: 28, 20, 21, 19 have the highest demand"
      ],
      "metadata": {
        "id": "F9xTb0yDnu4p"
      }
    },
    {
      "cell_type": "markdown",
      "source": [
        "#### 5. Fourth Question \n",
        "7. How much is the bike share?\n"
      ],
      "metadata": {
        "id": "O01LBRbdvNVr"
      }
    },
    {
      "cell_type": "code",
      "source": [
        "bike['bike_share_for_all_trip'].value_counts()"
      ],
      "metadata": {
        "colab": {
          "base_uri": "https://localhost:8080/"
        },
        "id": "_9dmfTtau_LS",
        "outputId": "55b56da0-aca6-4373-d58f-742306cbeb01"
      },
      "execution_count": null,
      "outputs": [
        {
          "output_type": "execute_result",
          "data": {
            "text/plain": [
              "No     166053\n",
              "Yes     17359\n",
              "Name: bike_share_for_all_trip, dtype: int64"
            ]
          },
          "metadata": {},
          "execution_count": 181
        }
      ]
    },
    {
      "cell_type": "markdown",
      "source": [
        "**Conclusion**: Bike share is around 10%, which is not very high"
      ],
      "metadata": {
        "id": "Uhky2NlJvfaS"
      }
    },
    {
      "cell_type": "markdown",
      "source": [
        "#### 6. Fourth Question \n",
        "8. What is the top 5 stations?"
      ],
      "metadata": {
        "id": "vXzi2sIYwxNI"
      }
    },
    {
      "cell_type": "code",
      "source": [
        "bike['start_station_name'].value_counts()"
      ],
      "metadata": {
        "colab": {
          "base_uri": "https://localhost:8080/"
        },
        "id": "D-oWBGbFwJrf",
        "outputId": "e115af8a-0af5-4c86-bd5d-cb0c6784724d"
      },
      "execution_count": null,
      "outputs": [
        {
          "output_type": "execute_result",
          "data": {
            "text/plain": [
              "Market St at 10th St                                         3904\n",
              "San Francisco Caltrain Station 2  (Townsend St at 4th St)    3544\n",
              "Berry St at 4th St                                           3052\n",
              "Montgomery St BART Station (Market St at 2nd St)             2895\n",
              "Powell St BART Station (Market St at 4th St)                 2760\n",
              "                                                             ... \n",
              "Willow St at Vine St                                            9\n",
              "Parker Ave at McAllister St                                     7\n",
              "Palm St at Willow St                                            4\n",
              "21st Ave at International Blvd                                  4\n",
              "16th St Depot                                                   2\n",
              "Name: start_station_name, Length: 329, dtype: int64"
            ]
          },
          "metadata": {},
          "execution_count": 186
        }
      ]
    },
    {
      "cell_type": "markdown",
      "source": [
        "#### 6. Fourth Question \n",
        "10. What is Most end time hour?"
      ],
      "metadata": {
        "id": "o37K6q-k6w8j"
      }
    },
    {
      "cell_type": "code",
      "source": [
        "bike['end_time_hour'].value_counts()[:10]"
      ],
      "metadata": {
        "colab": {
          "base_uri": "https://localhost:8080/"
        },
        "id": "VvM6g-I46vbq",
        "outputId": "de2f74ac-92e1-4554-d3cf-29e51c773701"
      },
      "execution_count": null,
      "outputs": [
        {
          "output_type": "execute_result",
          "data": {
            "text/plain": [
              "17    21295\n",
              "8     19782\n",
              "18    18264\n",
              "9     17684\n",
              "16    13179\n",
              "19    10730\n",
              "10     8977\n",
              "15     8835\n",
              "7      8779\n",
              "12     8617\n",
              "Name: end_time_hour, dtype: int64"
            ]
          },
          "metadata": {},
          "execution_count": 194
        }
      ]
    },
    {
      "cell_type": "markdown",
      "source": [
        "**Conclusion**: hours: 17, 8, 18, 9, and 16 are the top 5 hours that customers and subscribers end their trips"
      ],
      "metadata": {
        "id": "Ygcry_IJ71eK"
      }
    },
    {
      "cell_type": "markdown",
      "source": [
        "> ### Bivariate Exploration\n",
        "~ **Bivariate analysis** is finding some kind of empirical relationship between two variables"
      ],
      "metadata": {
        "id": "TT5L1C1WQVVD"
      }
    },
    {
      "cell_type": "markdown",
      "source": [
        "#### 1. First Question \n",
        "What is the age distrubtion"
      ],
      "metadata": {
        "id": "7XDdNvAVz6Vf"
      }
    },
    {
      "cell_type": "code",
      "source": [
        "bike.age.value_counts()"
      ],
      "metadata": {
        "colab": {
          "base_uri": "https://localhost:8080/"
        },
        "id": "4B7dmNWoosel",
        "outputId": "862628fd-508b-40ba-f7d5-5ec7aac42c1a"
      },
      "execution_count": null,
      "outputs": [
        {
          "output_type": "execute_result",
          "data": {
            "text/plain": [
              "34.0     10236\n",
              "29.0      9325\n",
              "33.0      8972\n",
              "32.0      8658\n",
              "31.0      8498\n",
              "         ...  \n",
              "94.0         1\n",
              "144.0        1\n",
              "92.0         1\n",
              "112.0        1\n",
              "95.0         1\n",
              "Name: age, Length: 76, dtype: int64"
            ]
          },
          "metadata": {},
          "execution_count": 178
        }
      ]
    },
    {
      "cell_type": "markdown",
      "source": [
        "**Conclusion**: 34, 29, 33, 32, 31 are the top 5 users"
      ],
      "metadata": {
        "id": "7LSTs0z4t62F"
      }
    },
    {
      "cell_type": "markdown",
      "source": [
        "#### 2. Second Question \n",
        "Who tend to share their bike more? What is their ages?"
      ],
      "metadata": {
        "id": "40thlaFfz_Ua"
      }
    },
    {
      "cell_type": "code",
      "source": [
        "# codes that help you to answer your question \n",
        "bike.groupby(['bike_share_for_all_trip', 'user_type'])['age'].mean() "
      ],
      "metadata": {
        "id": "ZvjEyWZez_Ua",
        "colab": {
          "base_uri": "https://localhost:8080/"
        },
        "outputId": "6c08822c-4255-48f9-b1fe-1107b01cd68d"
      },
      "execution_count": null,
      "outputs": [
        {
          "output_type": "execute_result",
          "data": {
            "text/plain": [
              "bike_share_for_all_trip  user_type \n",
              "No                       Customer      36.729292\n",
              "                         Subscriber    37.459077\n",
              "Yes                      Customer            NaN\n",
              "                         Subscriber    35.488968\n",
              "Name: age, dtype: float64"
            ]
          },
          "metadata": {},
          "execution_count": 196
        }
      ]
    },
    {
      "cell_type": "markdown",
      "source": [
        "**conclusion**: The mean of users age who tend to share their bikes are in 30s"
      ],
      "metadata": {
        "id": "tCyBoHGEuWW8"
      }
    },
    {
      "cell_type": "markdown",
      "source": [
        "#### 2. Third Question \n",
        "8.Who uses the bike more, customers or subscribers?"
      ],
      "metadata": {
        "id": "Zfd0C5mAxYhh"
      }
    },
    {
      "cell_type": "code",
      "source": [
        "bike.pivot_table(index='user_type', values='duration_sec')"
      ],
      "metadata": {
        "colab": {
          "base_uri": "https://localhost:8080/",
          "height": 143
        },
        "id": "N7xbd004xXBU",
        "outputId": "844c2629-85c1-4523-8024-31eeaa7cb6fe"
      },
      "execution_count": null,
      "outputs": [
        {
          "output_type": "execute_result",
          "data": {
            "text/plain": [
              "            duration_sec\n",
              "user_type               \n",
              "Customer     1432.465019\n",
              "Subscriber    640.263678"
            ],
            "text/html": [
              "\n",
              "  <div id=\"df-5eacb824-5891-4c78-bb40-b02ea1e5f90f\">\n",
              "    <div class=\"colab-df-container\">\n",
              "      <div>\n",
              "<style scoped>\n",
              "    .dataframe tbody tr th:only-of-type {\n",
              "        vertical-align: middle;\n",
              "    }\n",
              "\n",
              "    .dataframe tbody tr th {\n",
              "        vertical-align: top;\n",
              "    }\n",
              "\n",
              "    .dataframe thead th {\n",
              "        text-align: right;\n",
              "    }\n",
              "</style>\n",
              "<table border=\"1\" class=\"dataframe\">\n",
              "  <thead>\n",
              "    <tr style=\"text-align: right;\">\n",
              "      <th></th>\n",
              "      <th>duration_sec</th>\n",
              "    </tr>\n",
              "    <tr>\n",
              "      <th>user_type</th>\n",
              "      <th></th>\n",
              "    </tr>\n",
              "  </thead>\n",
              "  <tbody>\n",
              "    <tr>\n",
              "      <th>Customer</th>\n",
              "      <td>1432.465019</td>\n",
              "    </tr>\n",
              "    <tr>\n",
              "      <th>Subscriber</th>\n",
              "      <td>640.263678</td>\n",
              "    </tr>\n",
              "  </tbody>\n",
              "</table>\n",
              "</div>\n",
              "      <button class=\"colab-df-convert\" onclick=\"convertToInteractive('df-5eacb824-5891-4c78-bb40-b02ea1e5f90f')\"\n",
              "              title=\"Convert this dataframe to an interactive table.\"\n",
              "              style=\"display:none;\">\n",
              "        \n",
              "  <svg xmlns=\"http://www.w3.org/2000/svg\" height=\"24px\"viewBox=\"0 0 24 24\"\n",
              "       width=\"24px\">\n",
              "    <path d=\"M0 0h24v24H0V0z\" fill=\"none\"/>\n",
              "    <path d=\"M18.56 5.44l.94 2.06.94-2.06 2.06-.94-2.06-.94-.94-2.06-.94 2.06-2.06.94zm-11 1L8.5 8.5l.94-2.06 2.06-.94-2.06-.94L8.5 2.5l-.94 2.06-2.06.94zm10 10l.94 2.06.94-2.06 2.06-.94-2.06-.94-.94-2.06-.94 2.06-2.06.94z\"/><path d=\"M17.41 7.96l-1.37-1.37c-.4-.4-.92-.59-1.43-.59-.52 0-1.04.2-1.43.59L10.3 9.45l-7.72 7.72c-.78.78-.78 2.05 0 2.83L4 21.41c.39.39.9.59 1.41.59.51 0 1.02-.2 1.41-.59l7.78-7.78 2.81-2.81c.8-.78.8-2.07 0-2.86zM5.41 20L4 18.59l7.72-7.72 1.47 1.35L5.41 20z\"/>\n",
              "  </svg>\n",
              "      </button>\n",
              "      \n",
              "  <style>\n",
              "    .colab-df-container {\n",
              "      display:flex;\n",
              "      flex-wrap:wrap;\n",
              "      gap: 12px;\n",
              "    }\n",
              "\n",
              "    .colab-df-convert {\n",
              "      background-color: #E8F0FE;\n",
              "      border: none;\n",
              "      border-radius: 50%;\n",
              "      cursor: pointer;\n",
              "      display: none;\n",
              "      fill: #1967D2;\n",
              "      height: 32px;\n",
              "      padding: 0 0 0 0;\n",
              "      width: 32px;\n",
              "    }\n",
              "\n",
              "    .colab-df-convert:hover {\n",
              "      background-color: #E2EBFA;\n",
              "      box-shadow: 0px 1px 2px rgba(60, 64, 67, 0.3), 0px 1px 3px 1px rgba(60, 64, 67, 0.15);\n",
              "      fill: #174EA6;\n",
              "    }\n",
              "\n",
              "    [theme=dark] .colab-df-convert {\n",
              "      background-color: #3B4455;\n",
              "      fill: #D2E3FC;\n",
              "    }\n",
              "\n",
              "    [theme=dark] .colab-df-convert:hover {\n",
              "      background-color: #434B5C;\n",
              "      box-shadow: 0px 1px 3px 1px rgba(0, 0, 0, 0.15);\n",
              "      filter: drop-shadow(0px 1px 2px rgba(0, 0, 0, 0.3));\n",
              "      fill: #FFFFFF;\n",
              "    }\n",
              "  </style>\n",
              "\n",
              "      <script>\n",
              "        const buttonEl =\n",
              "          document.querySelector('#df-5eacb824-5891-4c78-bb40-b02ea1e5f90f button.colab-df-convert');\n",
              "        buttonEl.style.display =\n",
              "          google.colab.kernel.accessAllowed ? 'block' : 'none';\n",
              "\n",
              "        async function convertToInteractive(key) {\n",
              "          const element = document.querySelector('#df-5eacb824-5891-4c78-bb40-b02ea1e5f90f');\n",
              "          const dataTable =\n",
              "            await google.colab.kernel.invokeFunction('convertToInteractive',\n",
              "                                                     [key], {});\n",
              "          if (!dataTable) return;\n",
              "\n",
              "          const docLinkHtml = 'Like what you see? Visit the ' +\n",
              "            '<a target=\"_blank\" href=https://colab.research.google.com/notebooks/data_table.ipynb>data table notebook</a>'\n",
              "            + ' to learn more about interactive tables.';\n",
              "          element.innerHTML = '';\n",
              "          dataTable['output_type'] = 'display_data';\n",
              "          await google.colab.output.renderOutput(dataTable, element);\n",
              "          const docLink = document.createElement('div');\n",
              "          docLink.innerHTML = docLinkHtml;\n",
              "          element.appendChild(docLink);\n",
              "        }\n",
              "      </script>\n",
              "    </div>\n",
              "  </div>\n",
              "  "
            ]
          },
          "metadata": {},
          "execution_count": 190
        }
      ]
    },
    {
      "cell_type": "markdown",
      "source": [
        "**conclusion**: Customers tend to have longer trips"
      ],
      "metadata": {
        "id": "c7P4j_QtyAdJ"
      }
    },
    {
      "cell_type": "markdown",
      "source": [
        "> ### Multivariate Exploration\n",
        "~ **Multivariate analysis** is based on the observation and analysis of more than one variable at the same time"
      ],
      "metadata": {
        "id": "xJABsJN8ZKxJ"
      }
    },
    {
      "cell_type": "markdown",
      "source": [
        "#### 1. First Question \n",
        "3. The daily usage of bikes based on User Type and Member Gender?"
      ],
      "metadata": {
        "id": "TzYEN87hz7H8"
      }
    },
    {
      "cell_type": "code",
      "source": [
        "# codes that help you to answer your question \n",
        "bike.groupby(['user_type', 'gender'])[['start_time_day']].count()"
      ],
      "metadata": {
        "id": "lq_DMtWkz7H8",
        "colab": {
          "base_uri": "https://localhost:8080/",
          "height": 269
        },
        "outputId": "1f526792-caf8-4f0a-caaa-05e59ca01eab"
      },
      "execution_count": null,
      "outputs": [
        {
          "output_type": "execute_result",
          "data": {
            "text/plain": [
              "                   start_time_day\n",
              "user_type  gender                \n",
              "Customer   Female            4647\n",
              "           Male             11529\n",
              "           Other              455\n",
              "Subscriber Female           36197\n",
              "           Male            119122\n",
              "           Other             3197"
            ],
            "text/html": [
              "\n",
              "  <div id=\"df-fc83a65d-239c-4074-a34c-73afc94c46d5\">\n",
              "    <div class=\"colab-df-container\">\n",
              "      <div>\n",
              "<style scoped>\n",
              "    .dataframe tbody tr th:only-of-type {\n",
              "        vertical-align: middle;\n",
              "    }\n",
              "\n",
              "    .dataframe tbody tr th {\n",
              "        vertical-align: top;\n",
              "    }\n",
              "\n",
              "    .dataframe thead th {\n",
              "        text-align: right;\n",
              "    }\n",
              "</style>\n",
              "<table border=\"1\" class=\"dataframe\">\n",
              "  <thead>\n",
              "    <tr style=\"text-align: right;\">\n",
              "      <th></th>\n",
              "      <th></th>\n",
              "      <th>start_time_day</th>\n",
              "    </tr>\n",
              "    <tr>\n",
              "      <th>user_type</th>\n",
              "      <th>gender</th>\n",
              "      <th></th>\n",
              "    </tr>\n",
              "  </thead>\n",
              "  <tbody>\n",
              "    <tr>\n",
              "      <th rowspan=\"3\" valign=\"top\">Customer</th>\n",
              "      <th>Female</th>\n",
              "      <td>4647</td>\n",
              "    </tr>\n",
              "    <tr>\n",
              "      <th>Male</th>\n",
              "      <td>11529</td>\n",
              "    </tr>\n",
              "    <tr>\n",
              "      <th>Other</th>\n",
              "      <td>455</td>\n",
              "    </tr>\n",
              "    <tr>\n",
              "      <th rowspan=\"3\" valign=\"top\">Subscriber</th>\n",
              "      <th>Female</th>\n",
              "      <td>36197</td>\n",
              "    </tr>\n",
              "    <tr>\n",
              "      <th>Male</th>\n",
              "      <td>119122</td>\n",
              "    </tr>\n",
              "    <tr>\n",
              "      <th>Other</th>\n",
              "      <td>3197</td>\n",
              "    </tr>\n",
              "  </tbody>\n",
              "</table>\n",
              "</div>\n",
              "      <button class=\"colab-df-convert\" onclick=\"convertToInteractive('df-fc83a65d-239c-4074-a34c-73afc94c46d5')\"\n",
              "              title=\"Convert this dataframe to an interactive table.\"\n",
              "              style=\"display:none;\">\n",
              "        \n",
              "  <svg xmlns=\"http://www.w3.org/2000/svg\" height=\"24px\"viewBox=\"0 0 24 24\"\n",
              "       width=\"24px\">\n",
              "    <path d=\"M0 0h24v24H0V0z\" fill=\"none\"/>\n",
              "    <path d=\"M18.56 5.44l.94 2.06.94-2.06 2.06-.94-2.06-.94-.94-2.06-.94 2.06-2.06.94zm-11 1L8.5 8.5l.94-2.06 2.06-.94-2.06-.94L8.5 2.5l-.94 2.06-2.06.94zm10 10l.94 2.06.94-2.06 2.06-.94-2.06-.94-.94-2.06-.94 2.06-2.06.94z\"/><path d=\"M17.41 7.96l-1.37-1.37c-.4-.4-.92-.59-1.43-.59-.52 0-1.04.2-1.43.59L10.3 9.45l-7.72 7.72c-.78.78-.78 2.05 0 2.83L4 21.41c.39.39.9.59 1.41.59.51 0 1.02-.2 1.41-.59l7.78-7.78 2.81-2.81c.8-.78.8-2.07 0-2.86zM5.41 20L4 18.59l7.72-7.72 1.47 1.35L5.41 20z\"/>\n",
              "  </svg>\n",
              "      </button>\n",
              "      \n",
              "  <style>\n",
              "    .colab-df-container {\n",
              "      display:flex;\n",
              "      flex-wrap:wrap;\n",
              "      gap: 12px;\n",
              "    }\n",
              "\n",
              "    .colab-df-convert {\n",
              "      background-color: #E8F0FE;\n",
              "      border: none;\n",
              "      border-radius: 50%;\n",
              "      cursor: pointer;\n",
              "      display: none;\n",
              "      fill: #1967D2;\n",
              "      height: 32px;\n",
              "      padding: 0 0 0 0;\n",
              "      width: 32px;\n",
              "    }\n",
              "\n",
              "    .colab-df-convert:hover {\n",
              "      background-color: #E2EBFA;\n",
              "      box-shadow: 0px 1px 2px rgba(60, 64, 67, 0.3), 0px 1px 3px 1px rgba(60, 64, 67, 0.15);\n",
              "      fill: #174EA6;\n",
              "    }\n",
              "\n",
              "    [theme=dark] .colab-df-convert {\n",
              "      background-color: #3B4455;\n",
              "      fill: #D2E3FC;\n",
              "    }\n",
              "\n",
              "    [theme=dark] .colab-df-convert:hover {\n",
              "      background-color: #434B5C;\n",
              "      box-shadow: 0px 1px 3px 1px rgba(0, 0, 0, 0.15);\n",
              "      filter: drop-shadow(0px 1px 2px rgba(0, 0, 0, 0.3));\n",
              "      fill: #FFFFFF;\n",
              "    }\n",
              "  </style>\n",
              "\n",
              "      <script>\n",
              "        const buttonEl =\n",
              "          document.querySelector('#df-fc83a65d-239c-4074-a34c-73afc94c46d5 button.colab-df-convert');\n",
              "        buttonEl.style.display =\n",
              "          google.colab.kernel.accessAllowed ? 'block' : 'none';\n",
              "\n",
              "        async function convertToInteractive(key) {\n",
              "          const element = document.querySelector('#df-fc83a65d-239c-4074-a34c-73afc94c46d5');\n",
              "          const dataTable =\n",
              "            await google.colab.kernel.invokeFunction('convertToInteractive',\n",
              "                                                     [key], {});\n",
              "          if (!dataTable) return;\n",
              "\n",
              "          const docLinkHtml = 'Like what you see? Visit the ' +\n",
              "            '<a target=\"_blank\" href=https://colab.research.google.com/notebooks/data_table.ipynb>data table notebook</a>'\n",
              "            + ' to learn more about interactive tables.';\n",
              "          element.innerHTML = '';\n",
              "          dataTable['output_type'] = 'display_data';\n",
              "          await google.colab.output.renderOutput(dataTable, element);\n",
              "          const docLink = document.createElement('div');\n",
              "          docLink.innerHTML = docLinkHtml;\n",
              "          element.appendChild(docLink);\n",
              "        }\n",
              "      </script>\n",
              "    </div>\n",
              "  </div>\n",
              "  "
            ]
          },
          "metadata": {},
          "execution_count": 140
        }
      ]
    },
    {
      "cell_type": "markdown",
      "source": [
        "**Conclusion**: Customer Female tend to have longer trips and Male Subscribers tend to have the shortest trips"
      ],
      "metadata": {
        "id": "NKWdK8-vlo-K"
      }
    },
    {
      "cell_type": "markdown",
      "source": [
        "#### 2. Second Question\n",
        "6.The duration in hours based on user type and age"
      ],
      "metadata": {
        "id": "ZjLd39800ARw"
      }
    },
    {
      "cell_type": "code",
      "source": [
        "# codes that help you to answer your question \n",
        "bike_hours = bike.duration_sec / 3600 #to convert it to hours\n",
        "ax = sns.relplot(\n",
        "    x=bike_hours, \n",
        "    y='age', \n",
        "    data=bike,\n",
        "    palette='dark',\n",
        "    height=3, aspect=1.5,\n",
        "    kind='scatter', \n",
        "    col='user_type');\n",
        "ax.set_xlabels('duration in hours')"
      ],
      "metadata": {
        "id": "NbcYLomAz6Vg",
        "colab": {
          "base_uri": "https://localhost:8080/",
          "height": 238
        },
        "outputId": "63d42b1b-cbe4-4f2c-bbab-82133c53cbac"
      },
      "execution_count": null,
      "outputs": [
        {
          "output_type": "execute_result",
          "data": {
            "text/plain": [
              "<seaborn.axisgrid.FacetGrid at 0x7f20f1b8ba90>"
            ]
          },
          "metadata": {},
          "execution_count": 141
        },
        {
          "output_type": "display_data",
          "data": {
            "text/plain": [
              "<Figure size 648x216 with 2 Axes>"
            ],
            "image/png": "[encoded data removed]"
          },
          "metadata": {}
        }
      ]
    },
    {
      "cell_type": "markdown",
      "source": [
        "**Conclusion**: Customers most likely to have trips below 10 hours, while subscribers tend to have trips up to 15 hours "
      ],
      "metadata": {
        "id": "pkTfMZpGoGKN"
      }
    }
  ]
}